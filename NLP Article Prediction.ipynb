{
 "cells": [
  {
   "cell_type": "markdown",
   "metadata": {},
   "source": [
    "#### From the beginning, since the first printed newspaper, every news that makes into a page has had a specific section allotted to it. Although pretty much everything changed in newspapers from the ink to the type of paper used, this proper categorization of news was carried over by generations and even to the digital versions of the newspaper. Newspaper articles are not limited to a few topics or subjects, it covers a wide range of interests from politics to sports to movies and so on. For long, this process of sectioning was done manually by people but now technology can do it without much effort. In this hackathon, Data Science and Machine Learning enthusiasts like you will use Natural Language Processing to predict which genre or category a piece of news will fall in to from the story.\n",
    "#### The sections are labelled as follows:-\n",
    "#### Politics: 0 , Technology: 1 , Entertainment: 2 ,  Business: 3"
   ]
  },
  {
   "cell_type": "markdown",
   "metadata": {
    "collapsed": true
   },
   "source": [
    "#### Importing the required packages"
   ]
  },
  {
   "cell_type": "code",
   "execution_count": 2,
   "metadata": {},
   "outputs": [
    {
     "name": "stderr",
     "output_type": "stream",
     "text": [
      "G:\\Anaconda\\lib\\importlib\\_bootstrap.py:219: RuntimeWarning: numpy.ufunc size changed, may indicate binary incompatibility. Expected 192 from C header, got 216 from PyObject\n",
      "  return f(*args, **kwds)\n",
      "G:\\Anaconda\\lib\\importlib\\_bootstrap.py:219: RuntimeWarning: numpy.ufunc size changed, may indicate binary incompatibility. Expected 192 from C header, got 216 from PyObject\n",
      "  return f(*args, **kwds)\n"
     ]
    }
   ],
   "source": [
    "import nltk\n",
    "import pandas as pd"
   ]
  },
  {
   "cell_type": "markdown",
   "metadata": {},
   "source": [
    "#### Reading the data"
   ]
  },
  {
   "cell_type": "code",
   "execution_count": 3,
   "metadata": {},
   "outputs": [],
   "source": [
    "article = pd.read_excel(r\"G:\\R workplace\\Data Files\\NLP Article Prediction\\Data_Train.xlsx\" )"
   ]
  },
  {
   "cell_type": "code",
   "execution_count": 4,
   "metadata": {},
   "outputs": [
    {
     "data": {
      "text/html": [
       "<div>\n",
       "<style scoped>\n",
       "    .dataframe tbody tr th:only-of-type {\n",
       "        vertical-align: middle;\n",
       "    }\n",
       "\n",
       "    .dataframe tbody tr th {\n",
       "        vertical-align: top;\n",
       "    }\n",
       "\n",
       "    .dataframe thead th {\n",
       "        text-align: right;\n",
       "    }\n",
       "</style>\n",
       "<table border=\"1\" class=\"dataframe\">\n",
       "  <thead>\n",
       "    <tr style=\"text-align: right;\">\n",
       "      <th></th>\n",
       "      <th>STORY</th>\n",
       "      <th>SECTION</th>\n",
       "    </tr>\n",
       "  </thead>\n",
       "  <tbody>\n",
       "    <tr>\n",
       "      <th>0</th>\n",
       "      <td>But the most painful was the huge reversal in ...</td>\n",
       "      <td>3</td>\n",
       "    </tr>\n",
       "    <tr>\n",
       "      <th>1</th>\n",
       "      <td>How formidable is the opposition alliance amon...</td>\n",
       "      <td>0</td>\n",
       "    </tr>\n",
       "    <tr>\n",
       "      <th>2</th>\n",
       "      <td>Most Asian currencies were trading lower today...</td>\n",
       "      <td>3</td>\n",
       "    </tr>\n",
       "    <tr>\n",
       "      <th>3</th>\n",
       "      <td>If you want to answer any question, click on ‘...</td>\n",
       "      <td>1</td>\n",
       "    </tr>\n",
       "    <tr>\n",
       "      <th>4</th>\n",
       "      <td>In global markets, gold prices edged up today ...</td>\n",
       "      <td>3</td>\n",
       "    </tr>\n",
       "  </tbody>\n",
       "</table>\n",
       "</div>"
      ],
      "text/plain": [
       "                                               STORY  SECTION\n",
       "0  But the most painful was the huge reversal in ...        3\n",
       "1  How formidable is the opposition alliance amon...        0\n",
       "2  Most Asian currencies were trading lower today...        3\n",
       "3  If you want to answer any question, click on ‘...        1\n",
       "4  In global markets, gold prices edged up today ...        3"
      ]
     },
     "execution_count": 4,
     "metadata": {},
     "output_type": "execute_result"
    }
   ],
   "source": [
    "article.head()"
   ]
  },
  {
   "cell_type": "code",
   "execution_count": 5,
   "metadata": {},
   "outputs": [
    {
     "data": {
      "text/plain": [
       "pandas.core.frame.DataFrame"
      ]
     },
     "execution_count": 5,
     "metadata": {},
     "output_type": "execute_result"
    }
   ],
   "source": [
    "type(article)"
   ]
  },
  {
   "cell_type": "markdown",
   "metadata": {},
   "source": [
    "#### Summary of the data"
   ]
  },
  {
   "cell_type": "code",
   "execution_count": 6,
   "metadata": {},
   "outputs": [
    {
     "data": {
      "text/html": [
       "<div>\n",
       "<style scoped>\n",
       "    .dataframe tbody tr th:only-of-type {\n",
       "        vertical-align: middle;\n",
       "    }\n",
       "\n",
       "    .dataframe tbody tr th {\n",
       "        vertical-align: top;\n",
       "    }\n",
       "\n",
       "    .dataframe thead th {\n",
       "        text-align: right;\n",
       "    }\n",
       "</style>\n",
       "<table border=\"1\" class=\"dataframe\">\n",
       "  <thead>\n",
       "    <tr style=\"text-align: right;\">\n",
       "      <th></th>\n",
       "      <th>STORY</th>\n",
       "      <th>SECTION</th>\n",
       "    </tr>\n",
       "  </thead>\n",
       "  <tbody>\n",
       "    <tr>\n",
       "      <th>count</th>\n",
       "      <td>7628</td>\n",
       "      <td>7628.000000</td>\n",
       "    </tr>\n",
       "    <tr>\n",
       "      <th>unique</th>\n",
       "      <td>7548</td>\n",
       "      <td>NaN</td>\n",
       "    </tr>\n",
       "    <tr>\n",
       "      <th>top</th>\n",
       "      <td>This story has been published from a wire agen...</td>\n",
       "      <td>NaN</td>\n",
       "    </tr>\n",
       "    <tr>\n",
       "      <th>freq</th>\n",
       "      <td>28</td>\n",
       "      <td>NaN</td>\n",
       "    </tr>\n",
       "    <tr>\n",
       "      <th>mean</th>\n",
       "      <td>NaN</td>\n",
       "      <td>1.357892</td>\n",
       "    </tr>\n",
       "    <tr>\n",
       "      <th>std</th>\n",
       "      <td>NaN</td>\n",
       "      <td>0.999341</td>\n",
       "    </tr>\n",
       "    <tr>\n",
       "      <th>min</th>\n",
       "      <td>NaN</td>\n",
       "      <td>0.000000</td>\n",
       "    </tr>\n",
       "    <tr>\n",
       "      <th>25%</th>\n",
       "      <td>NaN</td>\n",
       "      <td>1.000000</td>\n",
       "    </tr>\n",
       "    <tr>\n",
       "      <th>50%</th>\n",
       "      <td>NaN</td>\n",
       "      <td>1.000000</td>\n",
       "    </tr>\n",
       "    <tr>\n",
       "      <th>75%</th>\n",
       "      <td>NaN</td>\n",
       "      <td>2.000000</td>\n",
       "    </tr>\n",
       "    <tr>\n",
       "      <th>max</th>\n",
       "      <td>NaN</td>\n",
       "      <td>3.000000</td>\n",
       "    </tr>\n",
       "  </tbody>\n",
       "</table>\n",
       "</div>"
      ],
      "text/plain": [
       "                                                    STORY      SECTION\n",
       "count                                                7628  7628.000000\n",
       "unique                                               7548          NaN\n",
       "top     This story has been published from a wire agen...          NaN\n",
       "freq                                                   28          NaN\n",
       "mean                                                  NaN     1.357892\n",
       "std                                                   NaN     0.999341\n",
       "min                                                   NaN     0.000000\n",
       "25%                                                   NaN     1.000000\n",
       "50%                                                   NaN     1.000000\n",
       "75%                                                   NaN     2.000000\n",
       "max                                                   NaN     3.000000"
      ]
     },
     "execution_count": 6,
     "metadata": {},
     "output_type": "execute_result"
    }
   ],
   "source": [
    "article.describe(include=\"all\")"
   ]
  },
  {
   "cell_type": "code",
   "execution_count": null,
   "metadata": {},
   "outputs": [],
   "source": []
  },
  {
   "cell_type": "markdown",
   "metadata": {},
   "source": [
    "#### Converting the target variable into category"
   ]
  },
  {
   "cell_type": "code",
   "execution_count": 7,
   "metadata": {},
   "outputs": [],
   "source": [
    "article.SECTION = article.SECTION.astype(\"category\")"
   ]
  },
  {
   "cell_type": "code",
   "execution_count": 8,
   "metadata": {},
   "outputs": [
    {
     "data": {
      "text/html": [
       "<div>\n",
       "<style scoped>\n",
       "    .dataframe tbody tr th:only-of-type {\n",
       "        vertical-align: middle;\n",
       "    }\n",
       "\n",
       "    .dataframe tbody tr th {\n",
       "        vertical-align: top;\n",
       "    }\n",
       "\n",
       "    .dataframe thead th {\n",
       "        text-align: right;\n",
       "    }\n",
       "</style>\n",
       "<table border=\"1\" class=\"dataframe\">\n",
       "  <thead>\n",
       "    <tr style=\"text-align: right;\">\n",
       "      <th></th>\n",
       "      <th>STORY</th>\n",
       "      <th>SECTION</th>\n",
       "    </tr>\n",
       "  </thead>\n",
       "  <tbody>\n",
       "    <tr>\n",
       "      <th>count</th>\n",
       "      <td>7628</td>\n",
       "      <td>7628</td>\n",
       "    </tr>\n",
       "    <tr>\n",
       "      <th>unique</th>\n",
       "      <td>7548</td>\n",
       "      <td>4</td>\n",
       "    </tr>\n",
       "    <tr>\n",
       "      <th>top</th>\n",
       "      <td>This story has been published from a wire agen...</td>\n",
       "      <td>1</td>\n",
       "    </tr>\n",
       "    <tr>\n",
       "      <th>freq</th>\n",
       "      <td>28</td>\n",
       "      <td>2772</td>\n",
       "    </tr>\n",
       "  </tbody>\n",
       "</table>\n",
       "</div>"
      ],
      "text/plain": [
       "                                                    STORY  SECTION\n",
       "count                                                7628     7628\n",
       "unique                                               7548        4\n",
       "top     This story has been published from a wire agen...        1\n",
       "freq                                                   28     2772"
      ]
     },
     "execution_count": 8,
     "metadata": {},
     "output_type": "execute_result"
    }
   ],
   "source": [
    "article.describe(include=\"all\")"
   ]
  },
  {
   "cell_type": "code",
   "execution_count": null,
   "metadata": {},
   "outputs": [],
   "source": []
  },
  {
   "cell_type": "code",
   "execution_count": 9,
   "metadata": {},
   "outputs": [
    {
     "data": {
      "text/plain": [
       "(7628, 2)"
      ]
     },
     "execution_count": 9,
     "metadata": {},
     "output_type": "execute_result"
    }
   ],
   "source": [
    "article.shape          # Shape of the data"
   ]
  },
  {
   "cell_type": "markdown",
   "metadata": {},
   "source": [
    "####  Applying a function len to the message column, will show the length of each mail."
   ]
  },
  {
   "cell_type": "code",
   "execution_count": 10,
   "metadata": {},
   "outputs": [],
   "source": [
    "article[\"LENGTH\"] = article.STORY.apply(len)"
   ]
  },
  {
   "cell_type": "code",
   "execution_count": 11,
   "metadata": {},
   "outputs": [
    {
     "data": {
      "text/html": [
       "<div>\n",
       "<style scoped>\n",
       "    .dataframe tbody tr th:only-of-type {\n",
       "        vertical-align: middle;\n",
       "    }\n",
       "\n",
       "    .dataframe tbody tr th {\n",
       "        vertical-align: top;\n",
       "    }\n",
       "\n",
       "    .dataframe thead th {\n",
       "        text-align: right;\n",
       "    }\n",
       "</style>\n",
       "<table border=\"1\" class=\"dataframe\">\n",
       "  <thead>\n",
       "    <tr style=\"text-align: right;\">\n",
       "      <th></th>\n",
       "      <th>STORY</th>\n",
       "      <th>SECTION</th>\n",
       "      <th>LENGTH</th>\n",
       "    </tr>\n",
       "  </thead>\n",
       "  <tbody>\n",
       "    <tr>\n",
       "      <th>0</th>\n",
       "      <td>But the most painful was the huge reversal in ...</td>\n",
       "      <td>3</td>\n",
       "      <td>843</td>\n",
       "    </tr>\n",
       "    <tr>\n",
       "      <th>1</th>\n",
       "      <td>How formidable is the opposition alliance amon...</td>\n",
       "      <td>0</td>\n",
       "      <td>129</td>\n",
       "    </tr>\n",
       "    <tr>\n",
       "      <th>2</th>\n",
       "      <td>Most Asian currencies were trading lower today...</td>\n",
       "      <td>3</td>\n",
       "      <td>386</td>\n",
       "    </tr>\n",
       "    <tr>\n",
       "      <th>3</th>\n",
       "      <td>If you want to answer any question, click on ‘...</td>\n",
       "      <td>1</td>\n",
       "      <td>587</td>\n",
       "    </tr>\n",
       "    <tr>\n",
       "      <th>4</th>\n",
       "      <td>In global markets, gold prices edged up today ...</td>\n",
       "      <td>3</td>\n",
       "      <td>299</td>\n",
       "    </tr>\n",
       "  </tbody>\n",
       "</table>\n",
       "</div>"
      ],
      "text/plain": [
       "                                               STORY SECTION  LENGTH\n",
       "0  But the most painful was the huge reversal in ...       3     843\n",
       "1  How formidable is the opposition alliance amon...       0     129\n",
       "2  Most Asian currencies were trading lower today...       3     386\n",
       "3  If you want to answer any question, click on ‘...       1     587\n",
       "4  In global markets, gold prices edged up today ...       3     299"
      ]
     },
     "execution_count": 11,
     "metadata": {},
     "output_type": "execute_result"
    }
   ],
   "source": [
    "article.head()"
   ]
  },
  {
   "cell_type": "code",
   "execution_count": null,
   "metadata": {},
   "outputs": [],
   "source": []
  },
  {
   "cell_type": "markdown",
   "metadata": {},
   "source": [
    "#### Now importing Stopwords and punctuations to remove them from the Stories"
   ]
  },
  {
   "cell_type": "code",
   "execution_count": 12,
   "metadata": {},
   "outputs": [],
   "source": [
    "from nltk.corpus import stopwords\n",
    "import string"
   ]
  },
  {
   "cell_type": "markdown",
   "metadata": {},
   "source": [
    "#### Creating a user defined function to remove stopwords and punctuations from the data"
   ]
  },
  {
   "cell_type": "code",
   "execution_count": 13,
   "metadata": {},
   "outputs": [],
   "source": [
    "def process(remove):\n",
    "    \"\"\"\n",
    "    1. Remove the punctuation\n",
    "    2. Remove the stopwords.\n",
    "    3. Return the list of clean textwords\n",
    "    \"\"\"\n",
    "    no_punc = [char for char in remove if char not in string.punctuation]        # Removing the punctuations\n",
    "    no_punc = \"\".join(no_punc)                                                   # Joining the spaces \n",
    "    \n",
    "    return[word for word in no_punc.split() if word not in stopwords.words(\"english\") ]"
   ]
  },
  {
   "cell_type": "code",
   "execution_count": 14,
   "metadata": {},
   "outputs": [
    {
     "data": {
      "text/plain": [
       "0       [But, painful, huge, reversal, fee, income, un...\n",
       "1       [How, formidable, opposition, alliance, among,...\n",
       "2       [Most, Asian, currencies, trading, lower, toda...\n",
       "3       [If, want, answer, question, click, ‘Answer’, ...\n",
       "4       [In, global, markets, gold, prices, edged, tod...\n",
       "5       [BEIJING, Chinese, tech, giant, Huawei, announ...\n",
       "6       [Mumbai, India, Incs, external, commercial, bo...\n",
       "7       [On, Wednesday, Federal, Reserve, Chairman, Je...\n",
       "8       [What, give, audience, I, already, done, Yeh, ...\n",
       "9       [com, Arbaaz, Khan, spoke, getting, back, Daba...\n",
       "10      [“One, would, think, development, testing, pro...\n",
       "11      [So, far, year, rupee, gained, 07, foreign, in...\n",
       "12      [Xiaomi, however, sees, presence, Jio, rural, ...\n",
       "13      [The, ad, reads, No, bells, whistles, No, Beze...\n",
       "14      [On, Tuesday, Powell, said, healthy, US, econo...\n",
       "15      [This, feature, help, make, display, responsiv...\n",
       "16      [TikTok, popular, among, children, facing, cri...\n",
       "17      [The, company, hive, ratings, business, wholly...\n",
       "18      [He, chooses, hide, CP, colleagues, move, moth...\n",
       "19      [That’s, right, opera, house, It, simply, goes...\n",
       "20      [Facebook, said, eligible, creators, would, ab...\n",
       "21      [Starring, Varun, Dhawan, Alia, Bhatt, Sonaksh...\n",
       "22      [GKN, Securities, barred, misuse, socalled, da...\n",
       "23      [Fintech, startup, Zeta, cofounded, Bhavin, Tu...\n",
       "24      [This, story, published, wire, agency, feed, w...\n",
       "25      [Globally, established, companies, Stratasys, ...\n",
       "26      [The, statements, Yeddyurappa, says, air, stri...\n",
       "27      [As, NDA, seeks, reelection, agriculture, form...\n",
       "28      [Yeddyurappa, said, IAF, air, strikes, would, ...\n",
       "29      [”With, two, releases, year, far, Milan, Talki...\n",
       "                              ...                        \n",
       "7598    [“TDP, party, ideology, gotten, sidelined, esp...\n",
       "7599    [But, far, whenever, we’ve, reviewed, Kindles,...\n",
       "7600    [During, day, markets, saw, high, volatility, ...\n",
       "7601    [Today, Gmail, allows, 15GB, free, storage, Us...\n",
       "7602    [Aparajita, Sarangi, took, voluntary, retireme...\n",
       "7603    [Investors, awaiting, economic, growth, data, ...\n",
       "7604    [With, advice, online, survivalists, moves, un...\n",
       "7605    [All, time, developers, disguising, app, prete...\n",
       "7606    [Lok, Sabha, elections, 2019, Fifth, phase, vo...\n",
       "7607    [The, watchdog, passed, five, separate, orders...\n",
       "7608    [In, Twitter, post, last, week, OnePlus, confi...\n",
       "7609    [An, iOSonly, email, client, named, Spark, lau...\n",
       "7610    [That, said, question, really, spend, ₹10000, ...\n",
       "7611    [And, I, didn’t, want, kind, movie, I, felt, I...\n",
       "7612    [His, 1999, film, All, About, My, Mother, rece...\n",
       "7613    [While, Mohan, Babu, considered, political, he...\n",
       "7614    [The, SP, 500, opened, higher, 126, points, 00...\n",
       "7615    [However, reports, suggest, would, another, sm...\n",
       "7616    [Mumbai, Indian, stocks, rose, key, indices, e...\n",
       "7617    [Sure, others, slightly, faster, slightly, sha...\n",
       "7618    [With, 147, million, pixels, one, billion, col...\n",
       "7619    [A, BJD, supporter, Puri, Congress, leaders, w...\n",
       "7620    [Bollywood, celebrities, took, social, media, ...\n",
       "7621    [However, confirmation, developers, games, wou...\n",
       "7622    [In, terms, optics, back, Redmi, Note, 7, boas...\n",
       "7623    [Karnataka, Congress, bastion, also, gave, BJP...\n",
       "7624    [The, film, also, features, Janhvi, Kapoor, re...\n",
       "7625    [The, database, created, bringing, together, c...\n",
       "7626    [The, state, uneasy, relationship, mainland, s...\n",
       "7627    [Virus, stars, Kunchacko, Boban, Tovino, Thoma...\n",
       "Name: STORY, Length: 7628, dtype: object"
      ]
     },
     "execution_count": 14,
     "metadata": {},
     "output_type": "execute_result"
    }
   ],
   "source": [
    "article.STORY.apply(process)           # Important Words from each message after removing punctuations and stopwords"
   ]
  },
  {
   "cell_type": "code",
   "execution_count": null,
   "metadata": {},
   "outputs": [],
   "source": []
  },
  {
   "cell_type": "markdown",
   "metadata": {},
   "source": [
    "#### Importing Count Vectorizer to count the frequency of the words"
   ]
  },
  {
   "cell_type": "code",
   "execution_count": 15,
   "metadata": {},
   "outputs": [],
   "source": [
    "from sklearn.feature_extraction.text import CountVectorizer   "
   ]
  },
  {
   "cell_type": "code",
   "execution_count": 16,
   "metadata": {},
   "outputs": [],
   "source": [
    "count = CountVectorizer(analyzer= process).fit(article.STORY)"
   ]
  },
  {
   "cell_type": "code",
   "execution_count": 17,
   "metadata": {},
   "outputs": [
    {
     "data": {
      "text/plain": [
       "{'But': 5752,\n",
       " 'painful': 35985,\n",
       " 'huge': 31157,\n",
       " 'reversal': 39006,\n",
       " 'fee': 28936,\n",
       " 'income': 31605,\n",
       " 'unheard': 43715,\n",
       " 'among': 21522,\n",
       " 'private': 37377,\n",
       " 'sector': 39792,\n",
       " 'lenders': 32996,\n",
       " 'Essentially': 8153,\n",
       " 'means': 33868,\n",
       " 'Yes': 20557,\n",
       " 'Bank': 4957,\n",
       " 'took': 42919,\n",
       " 'granted': 30254,\n",
       " 'fees': 28951,\n",
       " 'structured': 41685,\n",
       " 'loan': 33249,\n",
       " 'deals': 26104,\n",
       " 'paid': 35980,\n",
       " 'accounted': 20883,\n",
       " 'upfront': 43934,\n",
       " 'books': 23149,\n",
       " 'As': 4422,\n",
       " 'borrowers': 23189,\n",
       " 'turned': 43387,\n",
       " 'defaulters': 26241,\n",
       " 'tied': 42773,\n",
       " 'fell': 28957,\n",
       " 'cracks': 25607,\n",
       " 'Gill': 9100,\n",
       " 'vowed': 44443,\n",
       " 'shift': 40173,\n",
       " 'safer': 39397,\n",
       " 'accounting': 20884,\n",
       " 'practice': 37054,\n",
       " 'amortizing': 21529,\n",
       " 'rather': 38046,\n",
       " 'booking': 23144,\n",
       " 'Gill’s': 9106,\n",
       " 'move': 34560,\n",
       " 'mend': 33970,\n",
       " 'past': 36164,\n",
       " 'ways': 44622,\n",
       " 'nasty': 34792,\n",
       " 'surprises': 42008,\n",
       " 'future': 29792,\n",
       " 'This': 18876,\n",
       " 'good': 30151,\n",
       " 'news': 34961,\n",
       " 'considering': 25147,\n",
       " 'investors': 32242,\n",
       " 'love': 33403,\n",
       " 'clean': 24414,\n",
       " 'image': 31408,\n",
       " 'loathe': 33253,\n",
       " 'uncertainties': 43540,\n",
       " 'gain': 29817,\n",
       " 'without': 44932,\n",
       " 'pain': 35983,\n",
       " 'promise': 37551,\n",
       " 'strong': 41669,\n",
       " 'stable': 41238,\n",
       " 'balance': 22440,\n",
       " 'sheet': 40156,\n",
       " 'comes': 24717,\n",
       " 'sacrifices': 39380,\n",
       " 'well': 44717,\n",
       " 'Investors': 10500,\n",
       " 'give': 30046,\n",
       " 'hopes': 31070,\n",
       " 'phenomenal': 36465,\n",
       " 'growth': 30380,\n",
       " 'made': 33538,\n",
       " 'Kapoor': 11224,\n",
       " 'How': 9912,\n",
       " 'formidable': 29508,\n",
       " 'opposition': 35622,\n",
       " 'alliance': 21387,\n",
       " 'Congress': 6705,\n",
       " 'Jharkhand': 10879,\n",
       " 'Mukti': 13453,\n",
       " 'Morcha': 13350,\n",
       " 'JMM': 10615,\n",
       " 'Vikas': 19843,\n",
       " 'Prajatantrik': 15381,\n",
       " 'Most': 13371,\n",
       " 'Asian': 4457,\n",
       " 'currencies': 25853,\n",
       " 'trading': 43057,\n",
       " 'lower': 33428,\n",
       " 'today': 42862,\n",
       " 'South': 17885,\n",
       " 'Korean': 11635,\n",
       " '04': 98,\n",
       " 'China': 6321,\n",
       " 'renminbi': 38650,\n",
       " '023': 71,\n",
       " 'Offshore': 14316,\n",
       " '015': 51,\n",
       " 'Malaysian': 12583,\n",
       " 'ringgit': 39134,\n",
       " '012': 44,\n",
       " 'Indonesian': 10342,\n",
       " 'rupiah': 39352,\n",
       " '011': 42,\n",
       " 'Taiwan': 18572,\n",
       " 'dollar': 27219,\n",
       " '006': 23,\n",
       " 'However': 9915,\n",
       " 'Japanese': 10765,\n",
       " 'yen': 45176,\n",
       " '032': 89,\n",
       " 'The': 18819,\n",
       " 'index': 31656,\n",
       " 'measures': 33876,\n",
       " 'US': 19318,\n",
       " 'currency’s': 25858,\n",
       " 'strength': 41627,\n",
       " 'major': 33597,\n",
       " '9726': 3298,\n",
       " '014': 50,\n",
       " 'previous': 37281,\n",
       " 'close': 24486,\n",
       " '97395': 3300,\n",
       " 'If': 10169,\n",
       " 'want': 44515,\n",
       " 'answer': 21655,\n",
       " 'question': 37877,\n",
       " 'click': 24443,\n",
       " '‘Answer’': 45336,\n",
       " 'After': 3771,\n",
       " 'clicking': 24446,\n",
       " 'Answer': 4227,\n",
       " 'also': 21452,\n",
       " 'check': 24186,\n",
       " 'replies': 38701,\n",
       " 'users': 44039,\n",
       " 'Proceed': 15512,\n",
       " 'either': 27730,\n",
       " 'writing': 45110,\n",
       " 'voice': 44389,\n",
       " 'command': 24731,\n",
       " 'ask': 22002,\n",
       " '“Ask': 45740,\n",
       " 'A': 3352,\n",
       " 'Question': 15714,\n",
       " 'Few': 8523,\n",
       " 'prefixes': 37149,\n",
       " 'already': 21449,\n",
       " 'inserted': 31911,\n",
       " 'help': 30797,\n",
       " 'questions': 37883,\n",
       " 'submitting': 41776,\n",
       " 'app': 21777,\n",
       " 'send': 39938,\n",
       " 'neighbours': 34893,\n",
       " 'let': 33019,\n",
       " 'know': 32648,\n",
       " 'many': 33703,\n",
       " 'asked': 22003,\n",
       " 'Click': 6507,\n",
       " 'Done': 7625,\n",
       " 'You': 20595,\n",
       " 'bell': 22719,\n",
       " 'icon': 31319,\n",
       " 'homepage': 31023,\n",
       " 'follow': 29387,\n",
       " 'answers': 21658,\n",
       " 'In': 10220,\n",
       " 'global': 30088,\n",
       " 'markets': 33746,\n",
       " 'gold': 30140,\n",
       " 'prices': 37314,\n",
       " 'edged': 27671,\n",
       " 'disappointing': 26854,\n",
       " 'Chinese': 6333,\n",
       " 'factory': 28716,\n",
       " 'activity': 20976,\n",
       " 'data': 26017,\n",
       " 'brought': 23419,\n",
       " 'back': 22345,\n",
       " 'concerns': 24998,\n",
       " 'health': 30704,\n",
       " 'economy': 27662,\n",
       " 'denting': 26431,\n",
       " 'risk': 39148,\n",
       " 'appetite': 21801,\n",
       " 'Spot': 17973,\n",
       " 'rose': 39256,\n",
       " '1285': 459,\n",
       " 'per': 36312,\n",
       " 'ounce': 35740,\n",
       " 'European': 8187,\n",
       " 'equity': 28175,\n",
       " 'nudged': 35250,\n",
       " 'following': 29391,\n",
       " 'weaker': 44630,\n",
       " 'stock': 41504,\n",
       " 'BEIJING': 4698,\n",
       " 'tech': 42338,\n",
       " 'giant': 30017,\n",
       " 'Huawei': 9925,\n",
       " 'announced': 21624,\n",
       " 'plans': 36661,\n",
       " 'release': 38544,\n",
       " 'nextgeneration': 34978,\n",
       " 'smartphone': 40675,\n",
       " 'based': 22546,\n",
       " 'technology': 42361,\n",
       " 'instead': 31960,\n",
       " 'components': 24926,\n",
       " 'stepping': 41449,\n",
       " 'efforts': 27715,\n",
       " 'compete': 24859,\n",
       " 'directly': 26815,\n",
       " 'Western': 20205,\n",
       " 'industry': 31732,\n",
       " 'leaders': 32884,\n",
       " 'Thursdays': 18925,\n",
       " 'announcement': 21626,\n",
       " 'Technologies': 18674,\n",
       " 'Ltd': 12199,\n",
       " 'worlds': 45035,\n",
       " 'biggest': 22852,\n",
       " 'maker': 33607,\n",
       " 'network': 34921,\n",
       " 'gear': 29921,\n",
       " 'phone': 36481,\n",
       " 'companies': 24815,\n",
       " 'combats': 24694,\n",
       " 'warnings': 44546,\n",
       " 'company': 24822,\n",
       " 'might': 34135,\n",
       " 'security': 39811,\n",
       " 'Mumbai': 13475,\n",
       " 'India': 10265,\n",
       " 'Incs': 10248,\n",
       " 'external': 28609,\n",
       " 'commercial': 24757,\n",
       " 'borrowings': 23191,\n",
       " 'ECBs': 7796,\n",
       " '45': 2025,\n",
       " '242': 1334,\n",
       " 'billion': 22878,\n",
       " 'January': 10757,\n",
       " '2019': 1114,\n",
       " 'compared': 24831,\n",
       " 'yearago': 45147,\n",
       " 'period': 36352,\n",
       " 'Reserve': 16285,\n",
       " 'RBI': 15768,\n",
       " 'showed': 40280,\n",
       " 'Domestic': 7618,\n",
       " 'firms': 29158,\n",
       " 'raised': 37969,\n",
       " '540': 2250,\n",
       " 'overseas': 35890,\n",
       " 'sources': 40940,\n",
       " '2018': 1098,\n",
       " 'Of': 14299,\n",
       " 'total': 42972,\n",
       " 'month': 34463,\n",
       " '227': 1275,\n",
       " 'automatic': 22255,\n",
       " 'route': 39280,\n",
       " 'remaining': 38592,\n",
       " '150': 655,\n",
       " 'million': 34169,\n",
       " 'taken': 42208,\n",
       " 'approval': 21851,\n",
       " 'according': 20877,\n",
       " 'ECB': 7795,\n",
       " 'On': 14355,\n",
       " 'Wednesday': 20169,\n",
       " 'Federal': 8491,\n",
       " 'Chairman': 6121,\n",
       " 'Jerome': 10842,\n",
       " 'Powell': 15338,\n",
       " 'said': 39409,\n",
       " 'interest': 32075,\n",
       " 'rates': 38044,\n",
       " 'could': 25506,\n",
       " 'hold': 30995,\n",
       " '“some': 47067,\n",
       " 'time': 42798,\n",
       " 'risks': 39157,\n",
       " 'weigh': 44700,\n",
       " 'economic': 27653,\n",
       " 'outlook': 35783,\n",
       " 'inflation': 31784,\n",
       " 'remains': 38593,\n",
       " 'muted': 34708,\n",
       " '10year': 283,\n",
       " 'gilt': 30034,\n",
       " 'yield': 45189,\n",
       " '7328': 2841,\n",
       " 'Wednesdays': 20170,\n",
       " '7361': 2860,\n",
       " 'Bond': 5518,\n",
       " 'yields': 45193,\n",
       " 'opposite': 35621,\n",
       " 'directions': 26812,\n",
       " 'What': 20218,\n",
       " 'audience': 22173,\n",
       " 'I': 10007,\n",
       " 'done': 27246,\n",
       " 'Yeh': 20549,\n",
       " 'Hai': 9484,\n",
       " 'Aashiqui': 3559,\n",
       " 'Pyaar': 15661,\n",
       " 'Tune': 19205,\n",
       " 'Kya': 11756,\n",
       " 'Kiya': 11549,\n",
       " 'always': 21475,\n",
       " 'thought': 42667,\n",
       " 'two': 43429,\n",
       " 'kind': 32603,\n",
       " 'people': 36300,\n",
       " '–': 45301,\n",
       " 'bad': 22402,\n",
       " 'keep': 32544,\n",
       " 'interchanging': 32070,\n",
       " 'situations': 40503,\n",
       " 'com': 24687,\n",
       " 'Arbaaz': 4341,\n",
       " 'Khan': 11444,\n",
       " 'spoke': 41140,\n",
       " 'getting': 30002,\n",
       " 'Dabangg': 7082,\n",
       " 'Salman': 16858,\n",
       " 'perfectly': 36328,\n",
       " 'slipped': 40618,\n",
       " 'character': 24111,\n",
       " 'seven': 40058,\n",
       " 'years': 45157,\n",
       " '2': 1024,\n",
       " 'shot': 40252,\n",
       " 'song': 40886,\n",
       " 'Indore': 10345,\n",
       " 'surprised': 42007,\n",
       " 'saw': 39532,\n",
       " 'brother': 23409,\n",
       " 'sets': 40041,\n",
       " '“One': 46180,\n",
       " 'would': 45068,\n",
       " 'think': 42634,\n",
       " 'development': 26617,\n",
       " 'testing': 42524,\n",
       " 'process': 37425,\n",
       " 'would’ve': 45072,\n",
       " 'uncovered': 43567,\n",
       " 'flaws': 29266,\n",
       " 'yet': 45184,\n",
       " 'proceeded': 37421,\n",
       " 'put': 37824,\n",
       " 'market': 33735,\n",
       " 'anyway': 21754,\n",
       " 'Bryan': 5686,\n",
       " 'Ma': 12386,\n",
       " 'vice': 44254,\n",
       " 'president': 37233,\n",
       " 'devices': 26629,\n",
       " 'research': 38771,\n",
       " 'consultancy': 25207,\n",
       " 'IDC': 10038,\n",
       " '“Clearly': 45824,\n",
       " 'can’t': 23741,\n",
       " 'afford': 21184,\n",
       " 'another': 21654,\n",
       " 'embarrassing': 27831,\n",
       " 'Note': 14163,\n",
       " '7like': 3007,\n",
       " 'incident': 31585,\n",
       " 'lest': 33018,\n",
       " 'build': 23475,\n",
       " 'reputation': 38747,\n",
       " 'releasing': 38550,\n",
       " 'unreliable': 43840,\n",
       " 'products': 37471,\n",
       " '7': 2717,\n",
       " 'episode': 28150,\n",
       " 'triggered': 43265,\n",
       " 'recall': 38181,\n",
       " 'cost': 25482,\n",
       " 'billions': 22883,\n",
       " 'dollars': 27224,\n",
       " 'marred': 33761,\n",
       " 'battled': 22592,\n",
       " 'Apple': 4293,\n",
       " 'Inc': 10230,\n",
       " 'premium': 37177,\n",
       " 'Pulling': 15607,\n",
       " 'Fold': 8648,\n",
       " 'lets': 33022,\n",
       " 'address': 21028,\n",
       " 'potential': 37020,\n",
       " 'issues': 32311,\n",
       " 'races': 37924,\n",
       " 'flexible': 29279,\n",
       " 'gadget': 29810,\n",
       " 'ahead': 21273,\n",
       " 'rival': 39162,\n",
       " 'Co': 6536,\n",
       " 'Xiaomi': 20456,\n",
       " 'Corp': 6811,\n",
       " 'Samsung': 16900,\n",
       " 'spokeswoman': 41145,\n",
       " 'declined': 26190,\n",
       " 'comment': 24746,\n",
       " 'story': 41557,\n",
       " 'Shares': 17373,\n",
       " 'hasn’t': 30629,\n",
       " 'set': 40037,\n",
       " 'date': 26045,\n",
       " 'launch': 32828,\n",
       " 'little': 33223,\n",
       " 'changed': 24089,\n",
       " 'Seoul': 17246,\n",
       " 'bounced': 23222,\n",
       " 'since': 40436,\n",
       " '—': 45305,\n",
       " 'world’s': 45040,\n",
       " 'largest': 32780,\n",
       " 'producer': 37456,\n",
       " 'smartphones': 40685,\n",
       " 'memory': 33964,\n",
       " 'chips': 24246,\n",
       " 'counting': 25543,\n",
       " 'folding': 29379,\n",
       " 'extend': 28597,\n",
       " 'lead': 32880,\n",
       " 'mobile': 34344,\n",
       " 'kickstart': 32580,\n",
       " 'stagnating': 41259,\n",
       " 'Unveiled': 19477,\n",
       " 'along': 21441,\n",
       " '10thanniversary': 280,\n",
       " 'version': 44222,\n",
       " 'flagship': 29225,\n",
       " 'Galaxy': 8919,\n",
       " 'S': 16603,\n",
       " 'underscored': 43630,\n",
       " 'Samsung’s': 16905,\n",
       " 'ambitions': 21505,\n",
       " 'like': 33114,\n",
       " 'product': 37461,\n",
       " 'makes': 33610,\n",
       " 'Struggling': 18191,\n",
       " 'ward': 44524,\n",
       " 'hardcharging': 30578,\n",
       " 'rivals': 39165,\n",
       " 'Suwon': 18421,\n",
       " 'Koreabased': 11634,\n",
       " 'hoped': 31065,\n",
       " 'embody': 27843,\n",
       " 'cuttingedge': 25922,\n",
       " 'innovation': 31887,\n",
       " 'So': 17777,\n",
       " 'far': 28805,\n",
       " 'year': 45142,\n",
       " 'rupee': 39344,\n",
       " 'gained': 29818,\n",
       " '07': 139,\n",
       " 'foreign': 29452,\n",
       " 'bought': 23220,\n",
       " '843': 3086,\n",
       " '106': 230,\n",
       " 'debt': 26135,\n",
       " 'Indias': 10311,\n",
       " 'benchmark': 22737,\n",
       " 'Sensex': 17237,\n",
       " '022': 70,\n",
       " '38667': 1824,\n",
       " 'points': 36804,\n",
       " 'preopen': 37185,\n",
       " 'trade': 43047,\n",
       " 'Year': 20538,\n",
       " 'however': 31142,\n",
       " 'sees': 39842,\n",
       " 'presence': 37212,\n",
       " 'Jio': 10904,\n",
       " 'rural': 39353,\n",
       " 'enabler': 27920,\n",
       " 'eventually': 28302,\n",
       " 'expects': 28502,\n",
       " 'upgrade': 43935,\n",
       " 'Local': 12128,\n",
       " 'entrepreneurs': 28120,\n",
       " 'apply': 21823,\n",
       " 'open': 35570,\n",
       " 'Xiaomi’s': 20467,\n",
       " 'Mi': 13075,\n",
       " 'Stores': 18148,\n",
       " 'responsible': 38864,\n",
       " 'physical': 36533,\n",
       " 'infrastructure': 31815,\n",
       " 'real': 38099,\n",
       " 'estate': 28240,\n",
       " 'look': 33353,\n",
       " 'branding': 23283,\n",
       " 'store': 41538,\n",
       " 'details': 26573,\n",
       " 'ad': 21002,\n",
       " 'reads': 38092,\n",
       " 'No': 14100,\n",
       " 'bells': 22721,\n",
       " 'whistles': 44811,\n",
       " 'Bezel': 5227,\n",
       " 'notch': 35179,\n",
       " 'lag': 32707,\n",
       " 'bloatware': 23020,\n",
       " '2000': 1027,\n",
       " 'price': 37285,\n",
       " 'tag': 42191,\n",
       " 'random': 37997,\n",
       " 'music': 34692,\n",
       " 'Just': 11021,\n",
       " 'better': 22794,\n",
       " 'contained': 25238,\n",
       " 'sketch': 40528,\n",
       " 'showing': 40285,\n",
       " 'triple': 43283,\n",
       " 'camera': 23666,\n",
       " 'setup': 40053,\n",
       " 'popup': 36922,\n",
       " 'front': 29695,\n",
       " 'facing': 28701,\n",
       " 'mechanism': 33884,\n",
       " 'seems': 39836,\n",
       " 'copper': 25420,\n",
       " 'heat': 30741,\n",
       " 'pipe': 36599,\n",
       " 'cooling': 25399,\n",
       " 'shows': 40296,\n",
       " 'SIM': 16667,\n",
       " 'card': 23798,\n",
       " 'slot': 40630,\n",
       " 'moved': 34561,\n",
       " 'bottom': 23216,\n",
       " 'left': 32954,\n",
       " 'side': 40344,\n",
       " 'design': 26522,\n",
       " 'line': 33148,\n",
       " 'case': 23859,\n",
       " 'renders': 38641,\n",
       " 'Wired': 20314,\n",
       " 'magazine': 33545,\n",
       " 'even': 28290,\n",
       " 'got': 30179,\n",
       " 'hands': 30535,\n",
       " 'productionready': 37464,\n",
       " 'prototype': 37657,\n",
       " 'OnePlus': 14362,\n",
       " 'Pro': 15494,\n",
       " 'posted': 36986,\n",
       " 'samples': 39464,\n",
       " 'device': 26625,\n",
       " 'Azerbaijan': 4652,\n",
       " 'Grand': 9269,\n",
       " 'Prix': 15483,\n",
       " 'held': 30780,\n",
       " 'Baku': 4877,\n",
       " 'Tuesday': 19189,\n",
       " 'healthy': 30708,\n",
       " 'faced': 28679,\n",
       " '“crosscurrents': 46622,\n",
       " 'conflicting': 25076,\n",
       " 'signals': 40381,\n",
       " 'officials': 35420,\n",
       " 'decided': 26170,\n",
       " 'warranted': 44550,\n",
       " 'taking': 42216,\n",
       " 'patient': 36188,\n",
       " 'approach': 21843,\n",
       " 'interestrate': 32081,\n",
       " 'changes': 24094,\n",
       " 'Public': 15592,\n",
       " 'banks': 22499,\n",
       " 'higher': 30878,\n",
       " 'removed': 38633,\n",
       " 'Allahabad': 3972,\n",
       " 'Corporation': 6814,\n",
       " 'Dhanlaxmi': 7420,\n",
       " 'prompt': 37568,\n",
       " 'corrective': 25459,\n",
       " 'action': 20953,\n",
       " 'PCA': 14541,\n",
       " 'framework': 29605,\n",
       " 'subject': 41759,\n",
       " 'certain': 24036,\n",
       " 'conditions': 25030,\n",
       " 'continuous': 25291,\n",
       " 'monitoring': 34443,\n",
       " '9': 3166,\n",
       " '10': 168,\n",
       " '4': 1911,\n",
       " 'feature': 28908,\n",
       " 'make': 33604,\n",
       " 'display': 27020,\n",
       " 'responsive': 38867,\n",
       " 'inturn': 32204,\n",
       " 'significantly': 40387,\n",
       " 'gaming': 29861,\n",
       " 'UI': 19279,\n",
       " 'experience': 28515,\n",
       " 'It': 10566,\n",
       " 'consume': 25214,\n",
       " 'battery': 22581,\n",
       " 'expect': 28496,\n",
       " 'toggle': 42877,\n",
       " 'switch': 42104,\n",
       " 'within': 44931,\n",
       " 'settings': 40044,\n",
       " 'much': 34589,\n",
       " 'present': 37215,\n",
       " 'Asus': 4509,\n",
       " 'ROG': 15813,\n",
       " 'Phone': 15083,\n",
       " 'Razer': 16132,\n",
       " 'TikTok': 18948,\n",
       " 'popular': 36907,\n",
       " 'children': 24229,\n",
       " 'criticism': 25712,\n",
       " 'different': 26714,\n",
       " 'quarters': 37861,\n",
       " 'circulation': 24342,\n",
       " 'pornographic': 36926,\n",
       " 'content': 25261,\n",
       " 'Any': 4264,\n",
       " 'existing': 28470,\n",
       " 'user': 44029,\n",
       " 'installed': 31948,\n",
       " 'share': 40120,\n",
       " 'seeker': 39830,\n",
       " 'apps': 21860,\n",
       " 'ShareIt': 17366,\n",
       " 'New': 13988,\n",
       " 'Delhi': 7275,\n",
       " 'With': 20326,\n",
       " 'crores': 25732,\n",
       " 'using': 44050,\n",
       " 'option': 35653,\n",
       " 'others': 35730,\n",
       " 'blocking': 23034,\n",
       " 'access': 20841,\n",
       " 'Google': 9208,\n",
       " 'Play': 15191,\n",
       " 'Store': 18145,\n",
       " 'App': 4288,\n",
       " 'may': 33850,\n",
       " 'desired': 26534,\n",
       " 'results': 38907,\n",
       " 'say': 39534,\n",
       " 'experts': 28530,\n",
       " 'blocked': 23031,\n",
       " 'download': 27320,\n",
       " 'short': 40223,\n",
       " 'videosharing': 44279,\n",
       " 'request': 38750,\n",
       " 'government': 30190,\n",
       " 'hive': 30979,\n",
       " 'ratings': 38049,\n",
       " 'business': 23555,\n",
       " 'whollyowned': 44829,\n",
       " 'subsidiary': 41804,\n",
       " 'slump': 40650,\n",
       " 'sale': 39421,\n",
       " 'abide': 20763,\n",
       " 'rules': 39317,\n",
       " 'capital': 23756,\n",
       " 'regulator': 38461,\n",
       " 'Securities': 17166,\n",
       " 'Exchange': 8220,\n",
       " 'Board': 5479,\n",
       " 'Sebi': 17145,\n",
       " 'Crisil': 6895,\n",
       " 'press': 37240,\n",
       " 'Notwithstanding': 14177,\n",
       " 'rise': 39144,\n",
       " 'beginning': 22677,\n",
       " 'notched': 35180,\n",
       " 'gains': 29823,\n",
       " 'reflecting': 38381,\n",
       " 'business’s': 23568,\n",
       " 'drag': 27359,\n",
       " 'overall': 35831,\n",
       " 'earnings': 27599,\n",
       " 'Even': 8199,\n",
       " 'hiveoff': 30981,\n",
       " 'likely': 33119,\n",
       " 'continue': 25286,\n",
       " 'driver': 27424,\n",
       " 'valuation': 44114,\n",
       " 'trades': 43055,\n",
       " '28': 1482,\n",
       " 'times': 42817,\n",
       " 'oneyear': 35529,\n",
       " 'forward': 29537,\n",
       " 'He': 9644,\n",
       " 'chooses': 24271,\n",
       " 'hide': 30860,\n",
       " 'CP': 5872,\n",
       " 'colleagues': 24638,\n",
       " 'mother’s': 34516,\n",
       " 'house': 31126,\n",
       " 'form': 29487,\n",
       " 'sexual': 40085,\n",
       " 'relations': 38528,\n",
       " 'first': 29163,\n",
       " 'three': 42687,\n",
       " 'episodes': 28151,\n",
       " '“Oh': 46173,\n",
       " 'he’s': 30854,\n",
       " 'right': 39117,\n",
       " 'dare': 25997,\n",
       " 'find': 29115,\n",
       " 'happiness”': 30564,\n",
       " 'mother': 34511,\n",
       " 'offers': 35399,\n",
       " '“he': 46772,\n",
       " 'CP”': 5886,\n",
       " 'explanation': 28543,\n",
       " 'Phil': 15065,\n",
       " 'soldiers': 40843,\n",
       " '“': 45675,\n",
       " 'People': 14993,\n",
       " 'ass': 22019,\n",
       " 'too”': 42926,\n",
       " 'Special': 17918,\n",
       " 'packed': 35961,\n",
       " 'pop': 36903,\n",
       " 'culture': 25823,\n",
       " 'references': 38362,\n",
       " 'Gone': 9197,\n",
       " 'Girl': 9119,\n",
       " 'Mindy': 13156,\n",
       " 'Kaling': 11147,\n",
       " 'That’s': 18817,\n",
       " 'opera': 35582,\n",
       " 'simply': 40424,\n",
       " 'goes': 30134,\n",
       " 'show': 40269,\n",
       " 'trying': 43345,\n",
       " 'aim': 21282,\n",
       " 'new': 34945,\n",
       " 'iPad': 31280,\n",
       " 'specific': 41023,\n",
       " 'type': 43468,\n",
       " 'audience—artists': 22179,\n",
       " 'aware': 22318,\n",
       " 'fact': 28702,\n",
       " 'sales': 39439,\n",
       " 'slumping': 40652,\n",
       " 'measure': 33873,\n",
       " 'ship': 40183,\n",
       " 'sailing': 39412,\n",
       " 'promoting': 37564,\n",
       " 'highend': 30876,\n",
       " 'ideal': 31325,\n",
       " 'artists': 21984,\n",
       " 'photographers': 36517,\n",
       " 'creators': 25647,\n",
       " 'It’s': 10574,\n",
       " 'perfect': 36325,\n",
       " 'setting': 40043,\n",
       " 'eagerly': 27577,\n",
       " 'waiting': 44478,\n",
       " 'refresh': 38397,\n",
       " 'last': 32788,\n",
       " 'update': 43917,\n",
       " 'came': 23662,\n",
       " 'nearly': 34842,\n",
       " '17': 783,\n",
       " 'months': 34466,\n",
       " 'ago': 21248,\n",
       " 'change': 24087,\n",
       " 'anticipate': 21694,\n",
       " 'though': 42666,\n",
       " 'drastically': 27382,\n",
       " 'increased': 31629,\n",
       " 'iPhones': 31292,\n",
       " 'loved': 33406,\n",
       " 'iPhone': 31285,\n",
       " 'stagnated': 41258,\n",
       " 'high': 30865,\n",
       " 'managed': 33636,\n",
       " 'increase': 31628,\n",
       " 'revenue': 38996,\n",
       " 'For': 8662,\n",
       " 'reference': 38360,\n",
       " 'Plus': 15215,\n",
       " 'priced': 37305,\n",
       " '₹': 47363,\n",
       " '72000': 2812,\n",
       " 'XS': 20433,\n",
       " 'starts': 41340,\n",
       " '99999': 3330,\n",
       " 'Facebook': 8394,\n",
       " 'eligible': 27799,\n",
       " 'able': 20767,\n",
       " 'money': 34431,\n",
       " 'videos': 44277,\n",
       " 'Ad': 3667,\n",
       " 'Breaks': 5607,\n",
       " 'Photo': 15090,\n",
       " 'AFP': 3416,\n",
       " 'launching': 32843,\n",
       " 'Watch': 20113,\n",
       " 'video': 44269,\n",
       " 'YouTube': 20598,\n",
       " 'internationally': 32114,\n",
       " 'expanding': 28488,\n",
       " 'financial': 29108,\n",
       " 'incentives': 31570,\n",
       " 'encourage': 27943,\n",
       " 'FacebookFacebook': 8397,\n",
       " 'WatchFacebook': 20116,\n",
       " 'serviceYouTubeFidji': 40023,\n",
       " 'Simoentertainmentsports': 17605,\n",
       " 'contenttechnology': 25265,\n",
       " 'Starring': 18067,\n",
       " 'Varun': 19676,\n",
       " 'Dhawan': 7440,\n",
       " 'Alia': 3947,\n",
       " 'Bhatt': 5296,\n",
       " 'Sonakshi': 17828,\n",
       " 'Sinha': 17647,\n",
       " 'Aditya': 3700,\n",
       " 'Roy': 16518,\n",
       " 'Kapur': 11230,\n",
       " 'Madhuri': 12446,\n",
       " 'Dixit': 7589,\n",
       " 'Sanjay': 16943,\n",
       " 'Dutt': 7768,\n",
       " 'Kalank': 11130,\n",
       " 'opening': 35573,\n",
       " 'released': 38548,\n",
       " 'makers': 33608,\n",
       " 'wanted': 44516,\n",
       " 'extended': 28598,\n",
       " 'weekend': 44688,\n",
       " 'competition': 24867,\n",
       " 'sight': 40369,\n",
       " 'looks': 33358,\n",
       " 'film': 29055,\n",
       " 'splendid': 41123,\n",
       " 'box': 23247,\n",
       " 'office': 35410,\n",
       " 'tweeted': 43409,\n",
       " '“Kalank': 46059,\n",
       " 'bang…': 22480,\n",
       " 'Emerges': 8021,\n",
       " 'opener': 35572,\n",
       " 'far…': 28833,\n",
       " 'Plexes': 15210,\n",
       " 'terrific…': 42495,\n",
       " 'Impressive': 10212,\n",
       " 'cast': 23885,\n",
       " 'hype': 31236,\n",
       " 'massive': 33792,\n",
       " 'screen': 39659,\n",
       " 'count': 25515,\n",
       " '4000': 1914,\n",
       " 'MahavirJayanti': 12509,\n",
       " 'holiday': 31007,\n",
       " 'contributed': 25319,\n",
       " 'big': 22848,\n",
       " 'total…': 42980,\n",
       " 'Wed': 20166,\n",
       " '21': 1202,\n",
       " 'GKN': 8838,\n",
       " 'barred': 22533,\n",
       " 'misuse': 34324,\n",
       " 'socalled': 40802,\n",
       " 'dark': 26001,\n",
       " 'fibre': 29007,\n",
       " 'issue': 32305,\n",
       " 'appealed': 21789,\n",
       " 'SEBI': 16652,\n",
       " 'separate': 39983,\n",
       " 'order': 35680,\n",
       " 'NSE': 13677,\n",
       " 'six': 40505,\n",
       " 'securities': 39809,\n",
       " 'disgorge': 26959,\n",
       " '₹1200': 47426,\n",
       " 'profit': 37490,\n",
       " 'colocation': 24664,\n",
       " 'services': 40026,\n",
       " '2010': 1059,\n",
       " '2014': 1071,\n",
       " 'including': 31600,\n",
       " 'Fintech': 8575,\n",
       " 'startup': 41341,\n",
       " 'Zeta': 20694,\n",
       " 'cofounded': 24590,\n",
       " 'Bhavin': 5305,\n",
       " 'Turakhia': 19211,\n",
       " 'Ramki': 16019,\n",
       " 'Gaddipati': 8892,\n",
       " 'aims': 21286,\n",
       " 'digitise': 26754,\n",
       " 'employee': 27898,\n",
       " 'benefits': 22754,\n",
       " 'cafeteria': 23625,\n",
       " 'solutions': 40859,\n",
       " 'rewards': 39073,\n",
       " 'recognition': 38240,\n",
       " 'offering': 35396,\n",
       " 'cloudbased': 24505,\n",
       " 'enterprise': 28079,\n",
       " 'suite': 41880,\n",
       " 'called': 23646,\n",
       " 'tax': 42287,\n",
       " 'package': 35957,\n",
       " 'includes': 31599,\n",
       " 'payment': 36225,\n",
       " 'solution': 40858,\n",
       " 'published': 37724,\n",
       " 'wire': 44903,\n",
       " 'agency': 21217,\n",
       " 'feed': 28938,\n",
       " 'modifications': 34395,\n",
       " 'text': 42528,\n",
       " 'Only': 14377,\n",
       " 'headline': 30676,\n",
       " 'Globally': 9139,\n",
       " 'established': 28235,\n",
       " 'Stratasys': 18164,\n",
       " 'Optomec': 14413,\n",
       " 'footprints': 29422,\n",
       " 'partnerships': 36133,\n",
       " 'alliances': 21389,\n",
       " 'notes': 35193,\n",
       " 'abovecited': 20780,\n",
       " '6Wresearch': 2695,\n",
       " 'note': 35185,\n",
       " 'Major': 12556,\n",
       " 'active': 20967,\n",
       " 'Indian': 10298,\n",
       " '3Dprinting': 1872,\n",
       " 'space': 40953,\n",
       " 'Altem': 4006,\n",
       " 'Imaginarium': 10190,\n",
       " 'Brahma': 5579,\n",
       " '3': 1585,\n",
       " 'KCbots': 11044,\n",
       " 'JGroup': 10608,\n",
       " 'Robotics': 16432,\n",
       " 'sit': 40489,\n",
       " 'Disney': 7555,\n",
       " 'Research’s': 16282,\n",
       " 'Magic': 12467,\n",
       " 'Bench': 5150,\n",
       " 'elephant': 27787,\n",
       " 'hand': 30511,\n",
       " 'glowing': 30110,\n",
       " 'orb': 35670,\n",
       " 'Or': 14414,\n",
       " 'tiny': 42837,\n",
       " 'donkey': 27247,\n",
       " 'saunter': 39522,\n",
       " 'kick': 32573,\n",
       " 'bench': 22735,\n",
       " 'Similarly': 17601,\n",
       " 'scientists': 39613,\n",
       " 'Worcester': 20354,\n",
       " 'Polytechnic': 15272,\n",
       " 'Institute': 10427,\n",
       " 'Microsoft': 13099,\n",
       " 'HoloLens': 9835,\n",
       " 'explore': 28559,\n",
       " 'complex': 24903,\n",
       " 'biological': 22901,\n",
       " '3D': 1870,\n",
       " 'creating': 25638,\n",
       " 'tool': 42920,\n",
       " 'critical': 25705,\n",
       " 'links': 33174,\n",
       " 'proteins': 37647,\n",
       " 'genes': 29960,\n",
       " 'related': 38524,\n",
       " 'disorders': 26999,\n",
       " 'cancer': 23705,\n",
       " 'diabetes': 26655,\n",
       " 'Both': 5554,\n",
       " 'examples': 28371,\n",
       " 'highlight': 30892,\n",
       " 'melding': 33935,\n",
       " 'technologies': 42357,\n",
       " 'augmented': 22200,\n",
       " 'reality': 38112,\n",
       " 'AR': 3503,\n",
       " 'virtual': 44338,\n",
       " 'VR': 19578,\n",
       " 'world': 45028,\n",
       " 'businesses': 23558,\n",
       " ...}"
      ]
     },
     "execution_count": 17,
     "metadata": {},
     "output_type": "execute_result"
    }
   ],
   "source": [
    "count.vocabulary_                    # Occurances of each word in data"
   ]
  },
  {
   "cell_type": "markdown",
   "metadata": {},
   "source": [
    "#### Creating a sparse matrix now"
   ]
  },
  {
   "cell_type": "code",
   "execution_count": 18,
   "metadata": {},
   "outputs": [],
   "source": [
    "count_sparse = count.transform(article.STORY)"
   ]
  },
  {
   "cell_type": "code",
   "execution_count": 19,
   "metadata": {},
   "outputs": [
    {
     "data": {
      "text/plain": [
       "scipy.sparse.csr.csr_matrix"
      ]
     },
     "execution_count": 19,
     "metadata": {},
     "output_type": "execute_result"
    }
   ],
   "source": [
    "type(count_sparse)                                 # Sparse Matrix"
   ]
  },
  {
   "cell_type": "code",
   "execution_count": 20,
   "metadata": {},
   "outputs": [
    {
     "data": {
      "text/plain": [
       "(7628, 48187)"
      ]
     },
     "execution_count": 20,
     "metadata": {},
     "output_type": "execute_result"
    }
   ],
   "source": [
    "count_sparse.shape                                 # Each word is now converted into the columns"
   ]
  },
  {
   "cell_type": "code",
   "execution_count": 21,
   "metadata": {},
   "outputs": [
    {
     "data": {
      "text/plain": [
       "435565"
      ]
     },
     "execution_count": 21,
     "metadata": {},
     "output_type": "execute_result"
    }
   ],
   "source": [
    "count_sparse.nnz                                    # Number of non zeros"
   ]
  },
  {
   "cell_type": "code",
   "execution_count": null,
   "metadata": {},
   "outputs": [],
   "source": []
  },
  {
   "cell_type": "markdown",
   "metadata": {
    "collapsed": true
   },
   "source": [
    "#### Importing Tfidf Transformer to calculate the importance of the word"
   ]
  },
  {
   "cell_type": "code",
   "execution_count": 22,
   "metadata": {},
   "outputs": [],
   "source": [
    "from sklearn.feature_extraction.text import TfidfTransformer"
   ]
  },
  {
   "cell_type": "code",
   "execution_count": 23,
   "metadata": {},
   "outputs": [],
   "source": [
    "tfidf_transformer = TfidfTransformer()                     # Creating instance"
   ]
  },
  {
   "cell_type": "code",
   "execution_count": 24,
   "metadata": {},
   "outputs": [
    {
     "data": {
      "text/plain": [
       "TfidfTransformer(norm='l2', smooth_idf=True, sublinear_tf=False, use_idf=True)"
      ]
     },
     "execution_count": 24,
     "metadata": {},
     "output_type": "execute_result"
    }
   ],
   "source": [
    "tfidf_transformer.fit(count_sparse)       "
   ]
  },
  {
   "cell_type": "code",
   "execution_count": 25,
   "metadata": {},
   "outputs": [],
   "source": [
    "tfidf_mess = tfidf_transformer.transform(count_sparse)       # calculating tf-idf on each word from sparse matrix"
   ]
  },
  {
   "cell_type": "code",
   "execution_count": 26,
   "metadata": {},
   "outputs": [
    {
     "data": {
      "text/plain": [
       "<7628x48187 sparse matrix of type '<class 'numpy.float64'>'\n",
       "\twith 435565 stored elements in Compressed Sparse Row format>"
      ]
     },
     "execution_count": 26,
     "metadata": {},
     "output_type": "execute_result"
    }
   ],
   "source": [
    "tfidf_mess                                          # Transformed a sparse matrix to a normalized tf or tf-idf representation"
   ]
  },
  {
   "cell_type": "code",
   "execution_count": 27,
   "metadata": {},
   "outputs": [
    {
     "data": {
      "text/plain": [
       "(7628, 48187)"
      ]
     },
     "execution_count": 27,
     "metadata": {},
     "output_type": "execute_result"
    }
   ],
   "source": [
    "tfidf_mess.shape"
   ]
  },
  {
   "cell_type": "code",
   "execution_count": null,
   "metadata": {},
   "outputs": [],
   "source": []
  },
  {
   "cell_type": "markdown",
   "metadata": {},
   "source": [
    "#### Now splitting the data into train and test"
   ]
  },
  {
   "cell_type": "code",
   "execution_count": 28,
   "metadata": {},
   "outputs": [
    {
     "data": {
      "text/html": [
       "<div>\n",
       "<style scoped>\n",
       "    .dataframe tbody tr th:only-of-type {\n",
       "        vertical-align: middle;\n",
       "    }\n",
       "\n",
       "    .dataframe tbody tr th {\n",
       "        vertical-align: top;\n",
       "    }\n",
       "\n",
       "    .dataframe thead th {\n",
       "        text-align: right;\n",
       "    }\n",
       "</style>\n",
       "<table border=\"1\" class=\"dataframe\">\n",
       "  <thead>\n",
       "    <tr style=\"text-align: right;\">\n",
       "      <th></th>\n",
       "      <th>STORY</th>\n",
       "      <th>SECTION</th>\n",
       "      <th>LENGTH</th>\n",
       "    </tr>\n",
       "  </thead>\n",
       "  <tbody>\n",
       "    <tr>\n",
       "      <th>0</th>\n",
       "      <td>But the most painful was the huge reversal in ...</td>\n",
       "      <td>3</td>\n",
       "      <td>843</td>\n",
       "    </tr>\n",
       "    <tr>\n",
       "      <th>1</th>\n",
       "      <td>How formidable is the opposition alliance amon...</td>\n",
       "      <td>0</td>\n",
       "      <td>129</td>\n",
       "    </tr>\n",
       "    <tr>\n",
       "      <th>2</th>\n",
       "      <td>Most Asian currencies were trading lower today...</td>\n",
       "      <td>3</td>\n",
       "      <td>386</td>\n",
       "    </tr>\n",
       "    <tr>\n",
       "      <th>3</th>\n",
       "      <td>If you want to answer any question, click on ‘...</td>\n",
       "      <td>1</td>\n",
       "      <td>587</td>\n",
       "    </tr>\n",
       "    <tr>\n",
       "      <th>4</th>\n",
       "      <td>In global markets, gold prices edged up today ...</td>\n",
       "      <td>3</td>\n",
       "      <td>299</td>\n",
       "    </tr>\n",
       "  </tbody>\n",
       "</table>\n",
       "</div>"
      ],
      "text/plain": [
       "                                               STORY SECTION  LENGTH\n",
       "0  But the most painful was the huge reversal in ...       3     843\n",
       "1  How formidable is the opposition alliance amon...       0     129\n",
       "2  Most Asian currencies were trading lower today...       3     386\n",
       "3  If you want to answer any question, click on ‘...       1     587\n",
       "4  In global markets, gold prices edged up today ...       3     299"
      ]
     },
     "execution_count": 28,
     "metadata": {},
     "output_type": "execute_result"
    }
   ],
   "source": [
    "article.head()"
   ]
  },
  {
   "cell_type": "code",
   "execution_count": 29,
   "metadata": {},
   "outputs": [
    {
     "data": {
      "text/plain": [
       "0    3\n",
       "1    0\n",
       "2    3\n",
       "3    1\n",
       "4    3\n",
       "Name: SECTION, dtype: category\n",
       "Categories (4, int64): [0, 1, 2, 3]"
      ]
     },
     "execution_count": 29,
     "metadata": {},
     "output_type": "execute_result"
    }
   ],
   "source": [
    "article_section = article.iloc[:,-2]\n",
    "article_section.head()"
   ]
  },
  {
   "cell_type": "code",
   "execution_count": 30,
   "metadata": {},
   "outputs": [
    {
     "data": {
      "text/plain": [
       "(7628,)"
      ]
     },
     "execution_count": 30,
     "metadata": {},
     "output_type": "execute_result"
    }
   ],
   "source": [
    "article_section.shape"
   ]
  },
  {
   "cell_type": "markdown",
   "metadata": {},
   "source": [
    "#### Train-Test data"
   ]
  },
  {
   "cell_type": "code",
   "execution_count": 31,
   "metadata": {},
   "outputs": [],
   "source": [
    "msg_x_train = tfidf_mess[0:6001,::]\n",
    "msg_x_test = tfidf_mess[6001:7628,::]\n",
    "msg_y_train = article_section[0:6001]\n",
    "msg_y_test = article_section[6001:7629]"
   ]
  },
  {
   "cell_type": "code",
   "execution_count": 32,
   "metadata": {},
   "outputs": [
    {
     "name": "stdout",
     "output_type": "stream",
     "text": [
      "(6001, 48187)\n",
      "(6001,)\n",
      "(1627, 48187)\n",
      "(1627,)\n"
     ]
    }
   ],
   "source": [
    "print(msg_x_train.shape)\n",
    "print(msg_y_train.shape)\n",
    "print(msg_x_test.shape)\n",
    "print(msg_y_test.shape)"
   ]
  },
  {
   "cell_type": "code",
   "execution_count": null,
   "metadata": {},
   "outputs": [],
   "source": []
  },
  {
   "cell_type": "markdown",
   "metadata": {},
   "source": [
    "### Now creating a Model to classify the Stories"
   ]
  },
  {
   "cell_type": "markdown",
   "metadata": {},
   "source": [
    "#### Model No.1 using Naive Bayes"
   ]
  },
  {
   "cell_type": "code",
   "execution_count": 33,
   "metadata": {},
   "outputs": [],
   "source": [
    "from sklearn.naive_bayes import  MultinomialNB\n"
   ]
  },
  {
   "cell_type": "code",
   "execution_count": null,
   "metadata": {},
   "outputs": [],
   "source": []
  },
  {
   "cell_type": "code",
   "execution_count": 34,
   "metadata": {},
   "outputs": [],
   "source": [
    "naive = MultinomialNB()"
   ]
  },
  {
   "cell_type": "code",
   "execution_count": 35,
   "metadata": {},
   "outputs": [],
   "source": [
    "mod1 = naive.fit(msg_x_train , msg_y_train)              # Model Building"
   ]
  },
  {
   "cell_type": "code",
   "execution_count": 36,
   "metadata": {},
   "outputs": [
    {
     "data": {
      "text/plain": [
       "array([3, 1, 0, ..., 1, 0, 2], dtype=int64)"
      ]
     },
     "execution_count": 36,
     "metadata": {},
     "output_type": "execute_result"
    }
   ],
   "source": [
    "mod1_pred = naive.predict(msg_x_test)                    # Prediction on test data\n",
    "mod1_pred"
   ]
  },
  {
   "cell_type": "code",
   "execution_count": null,
   "metadata": {},
   "outputs": [],
   "source": []
  },
  {
   "cell_type": "markdown",
   "metadata": {},
   "source": [
    "#### Building a Confusion matrix to judge the model"
   ]
  },
  {
   "cell_type": "code",
   "execution_count": 37,
   "metadata": {},
   "outputs": [],
   "source": [
    "from sklearn.metrics import confusion_matrix, classification_report"
   ]
  },
  {
   "cell_type": "code",
   "execution_count": 38,
   "metadata": {},
   "outputs": [
    {
     "data": {
      "text/plain": [
       "array([[329,   0,  13,   0],\n",
       "       [ 15, 602,  40,  36],\n",
       "       [  2,   0, 349,   0],\n",
       "       [  2,   1,   0, 238]], dtype=int64)"
      ]
     },
     "execution_count": 38,
     "metadata": {},
     "output_type": "execute_result"
    }
   ],
   "source": [
    "conf1 = confusion_matrix(mod1_pred , msg_y_test)\n",
    "conf1"
   ]
  },
  {
   "cell_type": "code",
   "execution_count": 39,
   "metadata": {},
   "outputs": [
    {
     "data": {
      "text/plain": [
       "93.30055316533497"
      ]
     },
     "execution_count": 39,
     "metadata": {},
     "output_type": "execute_result"
    }
   ],
   "source": [
    "Accuracy = (sum(conf1.diagonal())/ conf1.sum())*100\n",
    "Accuracy"
   ]
  },
  {
   "cell_type": "code",
   "execution_count": 40,
   "metadata": {},
   "outputs": [
    {
     "name": "stdout",
     "output_type": "stream",
     "text": [
      "              precision    recall  f1-score   support\n",
      "\n",
      "           0       0.95      0.96      0.95       342\n",
      "           1       1.00      0.87      0.93       693\n",
      "           2       0.87      0.99      0.93       351\n",
      "           3       0.87      0.99      0.92       241\n",
      "\n",
      "    accuracy                           0.93      1627\n",
      "   macro avg       0.92      0.95      0.93      1627\n",
      "weighted avg       0.94      0.93      0.93      1627\n",
      "\n"
     ]
    }
   ],
   "source": [
    "print(classification_report(mod1_pred, msg_y_test))"
   ]
  },
  {
   "cell_type": "markdown",
   "metadata": {},
   "source": [
    "#### Model No.2 using Random Forest"
   ]
  },
  {
   "cell_type": "code",
   "execution_count": 41,
   "metadata": {},
   "outputs": [
    {
     "name": "stderr",
     "output_type": "stream",
     "text": [
      "G:\\Anaconda\\lib\\importlib\\_bootstrap.py:219: RuntimeWarning: numpy.ufunc size changed, may indicate binary incompatibility. Expected 192 from C header, got 216 from PyObject\n",
      "  return f(*args, **kwds)\n"
     ]
    }
   ],
   "source": [
    "from sklearn.ensemble import RandomForestClassifier"
   ]
  },
  {
   "cell_type": "code",
   "execution_count": 42,
   "metadata": {},
   "outputs": [],
   "source": [
    "forest = RandomForestClassifier()"
   ]
  },
  {
   "cell_type": "code",
   "execution_count": 43,
   "metadata": {},
   "outputs": [
    {
     "name": "stderr",
     "output_type": "stream",
     "text": [
      "G:\\Anaconda\\lib\\site-packages\\sklearn\\ensemble\\forest.py:245: FutureWarning: The default value of n_estimators will change from 10 in version 0.20 to 100 in 0.22.\n",
      "  \"10 in version 0.20 to 100 in 0.22.\", FutureWarning)\n"
     ]
    }
   ],
   "source": [
    "mod2 = forest.fit(msg_x_train , msg_y_train)"
   ]
  },
  {
   "cell_type": "code",
   "execution_count": 44,
   "metadata": {},
   "outputs": [],
   "source": [
    "mod2_pred = forest.predict(msg_x_test)"
   ]
  },
  {
   "cell_type": "code",
   "execution_count": 45,
   "metadata": {},
   "outputs": [
    {
     "data": {
      "text/plain": [
       "array([[323,   6,  10,   7],\n",
       "       [ 10, 573,  12,  39],\n",
       "       [ 13,  18, 379,  11],\n",
       "       [  2,   6,   1, 217]], dtype=int64)"
      ]
     },
     "execution_count": 45,
     "metadata": {},
     "output_type": "execute_result"
    }
   ],
   "source": [
    "conf2 = confusion_matrix(mod2_pred , msg_y_test)\n",
    "conf2"
   ]
  },
  {
   "cell_type": "code",
   "execution_count": 46,
   "metadata": {},
   "outputs": [
    {
     "data": {
      "text/plain": [
       "91.70251997541487"
      ]
     },
     "execution_count": 46,
     "metadata": {},
     "output_type": "execute_result"
    }
   ],
   "source": [
    "Accuracy1 = (sum(conf2.diagonal())/ conf2.sum())*100\n",
    "Accuracy1"
   ]
  },
  {
   "cell_type": "code",
   "execution_count": 47,
   "metadata": {},
   "outputs": [
    {
     "name": "stdout",
     "output_type": "stream",
     "text": [
      "              precision    recall  f1-score   support\n",
      "\n",
      "           0       0.93      0.93      0.93       346\n",
      "           1       0.95      0.90      0.93       634\n",
      "           2       0.94      0.90      0.92       421\n",
      "           3       0.79      0.96      0.87       226\n",
      "\n",
      "    accuracy                           0.92      1627\n",
      "   macro avg       0.90      0.92      0.91      1627\n",
      "weighted avg       0.92      0.92      0.92      1627\n",
      "\n"
     ]
    }
   ],
   "source": [
    "print(classification_report(mod2_pred, msg_y_test))"
   ]
  },
  {
   "cell_type": "code",
   "execution_count": null,
   "metadata": {},
   "outputs": [],
   "source": []
  },
  {
   "cell_type": "markdown",
   "metadata": {},
   "source": [
    "#### Naive Bayes model is good accuracy for all the classes and the classification model is also good as compared to random forest model."
   ]
  },
  {
   "cell_type": "markdown",
   "metadata": {},
   "source": [
    "#### The reason behind selecting Naive Bayes algorithm is because this algorithm relies on Bayes Rule. This algorithm will classify each object by looking at all of it’s features individually. The posterior probability of the object is calculated for each feature and then these probabilities are multiplied together to get a final probability."
   ]
  },
  {
   "cell_type": "code",
   "execution_count": null,
   "metadata": {},
   "outputs": [],
   "source": []
  }
 ],
 "metadata": {
  "kernelspec": {
   "display_name": "Python 3",
   "language": "python",
   "name": "python3"
  },
  "language_info": {
   "codemirror_mode": {
    "name": "ipython",
    "version": 3
   },
   "file_extension": ".py",
   "mimetype": "text/x-python",
   "name": "python",
   "nbconvert_exporter": "python",
   "pygments_lexer": "ipython3",
   "version": "3.7.3"
  }
 },
 "nbformat": 4,
 "nbformat_minor": 2
}
